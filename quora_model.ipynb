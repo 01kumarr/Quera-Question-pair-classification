{
 "cells": [
  {
   "cell_type": "code",
   "execution_count": 1,
   "id": "18ddb86d",
   "metadata": {},
   "outputs": [],
   "source": [
    "import pandas as pd\n",
    "import matplotlib.pyplot as plt\n",
    "import re\n",
    "import time\n",
    "import warnings\n",
    "# import sqlite3\n",
    "# from sqlalchemy import create_engine # database connection\n",
    "import csv\n",
    "import os\n",
    "warnings.filterwarnings(\"ignore\")\n",
    "import datetime as dt\n",
    "import numpy as np\n",
    "from nltk.corpus import stopwords\n",
    "from sklearn.decomposition import TruncatedSVD\n",
    "from sklearn.preprocessing import normalize\n",
    "from sklearn.feature_extraction.text import CountVectorizer\n",
    "from sklearn.manifold import TSNE\n",
    "import seaborn as sns\n",
    "from sklearn.neighbors import KNeighborsClassifier\n",
    "from sklearn.metrics import confusion_matrix, accuracy_score, log_loss, normalized_mutual_info_score\n",
    "\n",
    "from sklearn.feature_extraction.text import TfidfVectorizer\n",
    "from collections import Counter\n",
    "from scipy.sparse import hstack\n",
    "from sklearn.multiclass import OneVsRestClassifier\n",
    "from sklearn.svm import SVC\n",
    "from collections import Counter, defaultdict\n",
    "from sklearn.calibration import CalibratedClassifierCV\n",
    "from sklearn.naive_bayes import MultinomialNB, GaussianNB\n",
    "from sklearn.model_selection import train_test_split, GridSearchCV ,StratifiedKFold, cross_val_score\n",
    "import math\n",
    "from sklearn.ensemble import RandomForestClassifier\n",
    "\n",
    "from sklearn.linear_model import SGDClassifier\n",
    "from mlxtend.classifier import StackingClassifier\n",
    "\n",
    "from sklearn.linear_model import LogisticRegression\n",
    "from sklearn.metrics import precision_recall_curve, auc, roc_curve"
   ]
  },
  {
   "cell_type": "markdown",
   "id": "3d4c9aa2",
   "metadata": {},
   "source": [
    "# Machine Learning Models\n"
   ]
  },
  {
   "cell_type": "code",
   "execution_count": 10,
   "id": "a1bc44a0",
   "metadata": {},
   "outputs": [
    {
     "data": {
      "text/html": [
       "<div>\n",
       "<style scoped>\n",
       "    .dataframe tbody tr th:only-of-type {\n",
       "        vertical-align: middle;\n",
       "    }\n",
       "\n",
       "    .dataframe tbody tr th {\n",
       "        vertical-align: top;\n",
       "    }\n",
       "\n",
       "    .dataframe thead th {\n",
       "        text-align: right;\n",
       "    }\n",
       "</style>\n",
       "<table border=\"1\" class=\"dataframe\">\n",
       "  <thead>\n",
       "    <tr style=\"text-align: right;\">\n",
       "      <th></th>\n",
       "      <th>Unnamed: 0</th>\n",
       "      <th>id</th>\n",
       "      <th>is_duplicate</th>\n",
       "      <th>cwc_min</th>\n",
       "      <th>cwc_max</th>\n",
       "      <th>csc_min</th>\n",
       "      <th>csc_max</th>\n",
       "      <th>ctc_min</th>\n",
       "      <th>ctc_max</th>\n",
       "      <th>last_word_eq</th>\n",
       "      <th>...</th>\n",
       "      <th>290_y</th>\n",
       "      <th>291_y</th>\n",
       "      <th>292_y</th>\n",
       "      <th>293_y</th>\n",
       "      <th>294_y</th>\n",
       "      <th>295_y</th>\n",
       "      <th>296_y</th>\n",
       "      <th>297_y</th>\n",
       "      <th>298_y</th>\n",
       "      <th>299_y</th>\n",
       "    </tr>\n",
       "  </thead>\n",
       "  <tbody>\n",
       "    <tr>\n",
       "      <th>0</th>\n",
       "      <td>0</td>\n",
       "      <td>0</td>\n",
       "      <td>0</td>\n",
       "      <td>0.999980</td>\n",
       "      <td>0.833319</td>\n",
       "      <td>0.999983</td>\n",
       "      <td>0.999983</td>\n",
       "      <td>0.916659</td>\n",
       "      <td>0.785709</td>\n",
       "      <td>0.0</td>\n",
       "      <td>...</td>\n",
       "      <td>89.509871</td>\n",
       "      <td>-110.533625</td>\n",
       "      <td>-100.479424</td>\n",
       "      <td>90.664803</td>\n",
       "      <td>19.507948</td>\n",
       "      <td>-15.140525</td>\n",
       "      <td>-19.345136</td>\n",
       "      <td>-129.408695</td>\n",
       "      <td>-118.284831</td>\n",
       "      <td>89.844395</td>\n",
       "    </tr>\n",
       "    <tr>\n",
       "      <th>1</th>\n",
       "      <td>1</td>\n",
       "      <td>1</td>\n",
       "      <td>0</td>\n",
       "      <td>0.799984</td>\n",
       "      <td>0.399996</td>\n",
       "      <td>0.749981</td>\n",
       "      <td>0.599988</td>\n",
       "      <td>0.699993</td>\n",
       "      <td>0.466664</td>\n",
       "      <td>0.0</td>\n",
       "      <td>...</td>\n",
       "      <td>81.915579</td>\n",
       "      <td>52.010940</td>\n",
       "      <td>91.056819</td>\n",
       "      <td>-0.052428</td>\n",
       "      <td>-165.972075</td>\n",
       "      <td>103.077540</td>\n",
       "      <td>-83.073252</td>\n",
       "      <td>-68.480301</td>\n",
       "      <td>-117.666431</td>\n",
       "      <td>173.873648</td>\n",
       "    </tr>\n",
       "    <tr>\n",
       "      <th>2</th>\n",
       "      <td>2</td>\n",
       "      <td>2</td>\n",
       "      <td>0</td>\n",
       "      <td>0.399992</td>\n",
       "      <td>0.333328</td>\n",
       "      <td>0.399992</td>\n",
       "      <td>0.249997</td>\n",
       "      <td>0.399996</td>\n",
       "      <td>0.285712</td>\n",
       "      <td>0.0</td>\n",
       "      <td>...</td>\n",
       "      <td>88.559925</td>\n",
       "      <td>19.308219</td>\n",
       "      <td>128.521377</td>\n",
       "      <td>126.306732</td>\n",
       "      <td>-44.066754</td>\n",
       "      <td>148.308988</td>\n",
       "      <td>152.486339</td>\n",
       "      <td>-244.803431</td>\n",
       "      <td>2.997449</td>\n",
       "      <td>250.107358</td>\n",
       "    </tr>\n",
       "  </tbody>\n",
       "</table>\n",
       "<p>3 rows × 629 columns</p>\n",
       "</div>"
      ],
      "text/plain": [
       "   Unnamed: 0  id  is_duplicate   cwc_min   cwc_max   csc_min   csc_max  \\\n",
       "0           0   0             0  0.999980  0.833319  0.999983  0.999983   \n",
       "1           1   1             0  0.799984  0.399996  0.749981  0.599988   \n",
       "2           2   2             0  0.399992  0.333328  0.399992  0.249997   \n",
       "\n",
       "    ctc_min   ctc_max  last_word_eq  ...      290_y       291_y       292_y  \\\n",
       "0  0.916659  0.785709           0.0  ...  89.509871 -110.533625 -100.479424   \n",
       "1  0.699993  0.466664           0.0  ...  81.915579   52.010940   91.056819   \n",
       "2  0.399996  0.285712           0.0  ...  88.559925   19.308219  128.521377   \n",
       "\n",
       "        293_y       294_y       295_y       296_y       297_y       298_y  \\\n",
       "0   90.664803   19.507948  -15.140525  -19.345136 -129.408695 -118.284831   \n",
       "1   -0.052428 -165.972075  103.077540  -83.073252  -68.480301 -117.666431   \n",
       "2  126.306732  -44.066754  148.308988  152.486339 -244.803431    2.997449   \n",
       "\n",
       "        299_y  \n",
       "0   89.844395  \n",
       "1  173.873648  \n",
       "2  250.107358  \n",
       "\n",
       "[3 rows x 629 columns]"
      ]
     },
     "execution_count": 10,
     "metadata": {},
     "output_type": "execute_result"
    }
   ],
   "source": [
    "data = pd.read_csv('final_features.csv', encoding='latin-1', nrows=20001)\n",
    "data.head(3)"
   ]
  },
  {
   "cell_type": "code",
   "execution_count": 11,
   "id": "97b6c34a",
   "metadata": {},
   "outputs": [
    {
     "data": {
      "text/plain": [
       "(20001, 629)"
      ]
     },
     "execution_count": 11,
     "metadata": {},
     "output_type": "execute_result"
    }
   ],
   "source": [
    "data.shape"
   ]
  },
  {
   "cell_type": "markdown",
   "id": "e582ec6f",
   "metadata": {},
   "source": [
    "## Random Train-Test Split (70:30)"
   ]
  },
  {
   "cell_type": "code",
   "execution_count": 12,
   "id": "6defad40",
   "metadata": {},
   "outputs": [],
   "source": [
    "# removing the class and dropping\n",
    "y_true = data['is_duplicate']\n",
    "data.drop(['Unnamed: 0', 'id','is_duplicate'], axis=1, inplace=True)"
   ]
  },
  {
   "cell_type": "code",
   "execution_count": 13,
   "id": "035b0f0b",
   "metadata": {},
   "outputs": [
    {
     "data": {
      "text/html": [
       "<div>\n",
       "<style scoped>\n",
       "    .dataframe tbody tr th:only-of-type {\n",
       "        vertical-align: middle;\n",
       "    }\n",
       "\n",
       "    .dataframe tbody tr th {\n",
       "        vertical-align: top;\n",
       "    }\n",
       "\n",
       "    .dataframe thead th {\n",
       "        text-align: right;\n",
       "    }\n",
       "</style>\n",
       "<table border=\"1\" class=\"dataframe\">\n",
       "  <thead>\n",
       "    <tr style=\"text-align: right;\">\n",
       "      <th></th>\n",
       "      <th>cwc_min</th>\n",
       "      <th>cwc_max</th>\n",
       "      <th>csc_min</th>\n",
       "      <th>csc_max</th>\n",
       "      <th>ctc_min</th>\n",
       "      <th>ctc_max</th>\n",
       "      <th>last_word_eq</th>\n",
       "      <th>first_word_eq</th>\n",
       "      <th>abs_len_diff</th>\n",
       "      <th>mean_len</th>\n",
       "      <th>...</th>\n",
       "      <th>290_y</th>\n",
       "      <th>291_y</th>\n",
       "      <th>292_y</th>\n",
       "      <th>293_y</th>\n",
       "      <th>294_y</th>\n",
       "      <th>295_y</th>\n",
       "      <th>296_y</th>\n",
       "      <th>297_y</th>\n",
       "      <th>298_y</th>\n",
       "      <th>299_y</th>\n",
       "    </tr>\n",
       "  </thead>\n",
       "  <tbody>\n",
       "    <tr>\n",
       "      <th>0</th>\n",
       "      <td>0.999980</td>\n",
       "      <td>0.833319</td>\n",
       "      <td>0.999983</td>\n",
       "      <td>0.999983</td>\n",
       "      <td>0.916659</td>\n",
       "      <td>0.785709</td>\n",
       "      <td>0.0</td>\n",
       "      <td>1.0</td>\n",
       "      <td>2.0</td>\n",
       "      <td>13.0</td>\n",
       "      <td>...</td>\n",
       "      <td>89.509871</td>\n",
       "      <td>-110.533625</td>\n",
       "      <td>-100.479424</td>\n",
       "      <td>90.664803</td>\n",
       "      <td>19.507948</td>\n",
       "      <td>-15.140525</td>\n",
       "      <td>-19.345136</td>\n",
       "      <td>-129.408695</td>\n",
       "      <td>-118.284831</td>\n",
       "      <td>89.844395</td>\n",
       "    </tr>\n",
       "    <tr>\n",
       "      <th>1</th>\n",
       "      <td>0.799984</td>\n",
       "      <td>0.399996</td>\n",
       "      <td>0.749981</td>\n",
       "      <td>0.599988</td>\n",
       "      <td>0.699993</td>\n",
       "      <td>0.466664</td>\n",
       "      <td>0.0</td>\n",
       "      <td>1.0</td>\n",
       "      <td>5.0</td>\n",
       "      <td>12.5</td>\n",
       "      <td>...</td>\n",
       "      <td>81.915579</td>\n",
       "      <td>52.010940</td>\n",
       "      <td>91.056819</td>\n",
       "      <td>-0.052428</td>\n",
       "      <td>-165.972075</td>\n",
       "      <td>103.077540</td>\n",
       "      <td>-83.073252</td>\n",
       "      <td>-68.480301</td>\n",
       "      <td>-117.666431</td>\n",
       "      <td>173.873648</td>\n",
       "    </tr>\n",
       "    <tr>\n",
       "      <th>2</th>\n",
       "      <td>0.399992</td>\n",
       "      <td>0.333328</td>\n",
       "      <td>0.399992</td>\n",
       "      <td>0.249997</td>\n",
       "      <td>0.399996</td>\n",
       "      <td>0.285712</td>\n",
       "      <td>0.0</td>\n",
       "      <td>1.0</td>\n",
       "      <td>4.0</td>\n",
       "      <td>12.0</td>\n",
       "      <td>...</td>\n",
       "      <td>88.559925</td>\n",
       "      <td>19.308219</td>\n",
       "      <td>128.521377</td>\n",
       "      <td>126.306732</td>\n",
       "      <td>-44.066754</td>\n",
       "      <td>148.308988</td>\n",
       "      <td>152.486339</td>\n",
       "      <td>-244.803431</td>\n",
       "      <td>2.997449</td>\n",
       "      <td>250.107358</td>\n",
       "    </tr>\n",
       "  </tbody>\n",
       "</table>\n",
       "<p>3 rows × 626 columns</p>\n",
       "</div>"
      ],
      "text/plain": [
       "    cwc_min   cwc_max   csc_min   csc_max   ctc_min   ctc_max  last_word_eq  \\\n",
       "0  0.999980  0.833319  0.999983  0.999983  0.916659  0.785709           0.0   \n",
       "1  0.799984  0.399996  0.749981  0.599988  0.699993  0.466664           0.0   \n",
       "2  0.399992  0.333328  0.399992  0.249997  0.399996  0.285712           0.0   \n",
       "\n",
       "   first_word_eq  abs_len_diff  mean_len  ...      290_y       291_y  \\\n",
       "0            1.0           2.0      13.0  ...  89.509871 -110.533625   \n",
       "1            1.0           5.0      12.5  ...  81.915579   52.010940   \n",
       "2            1.0           4.0      12.0  ...  88.559925   19.308219   \n",
       "\n",
       "        292_y       293_y       294_y       295_y       296_y       297_y  \\\n",
       "0 -100.479424   90.664803   19.507948  -15.140525  -19.345136 -129.408695   \n",
       "1   91.056819   -0.052428 -165.972075  103.077540  -83.073252  -68.480301   \n",
       "2  128.521377  126.306732  -44.066754  148.308988  152.486339 -244.803431   \n",
       "\n",
       "        298_y       299_y  \n",
       "0 -118.284831   89.844395  \n",
       "1 -117.666431  173.873648  \n",
       "2    2.997449  250.107358  \n",
       "\n",
       "[3 rows x 626 columns]"
      ]
     },
     "execution_count": 13,
     "metadata": {},
     "output_type": "execute_result"
    }
   ],
   "source": [
    "data.head(3)"
   ]
  },
  {
   "cell_type": "code",
   "execution_count": 14,
   "id": "99fba0de",
   "metadata": {},
   "outputs": [],
   "source": [
    "X_train,X_test, y_train, y_test = train_test_split(data, y_true, stratify=y_true, test_size=0.3)"
   ]
  },
  {
   "cell_type": "code",
   "execution_count": 15,
   "id": "13a4e5f5",
   "metadata": {},
   "outputs": [
    {
     "name": "stdout",
     "output_type": "stream",
     "text": [
      "Number of data points in train data : (14000, 626)\n",
      "Number of data points in test data : (6001, 626)\n"
     ]
    }
   ],
   "source": [
    "print(\"Number of data points in train data :\",X_train.shape)\n",
    "print(\"Number of data points in test data :\",X_test.shape)"
   ]
  },
  {
   "cell_type": "code",
   "execution_count": 16,
   "id": "b67e599f",
   "metadata": {},
   "outputs": [
    {
     "name": "stdout",
     "output_type": "stream",
     "text": [
      "---------- Distribution of output variable in train data ----------\n",
      "Class 0:  0.6262857142857143 Class 1:  0.3737142857142857\n",
      "---------- Distribution of output variable in train data ----------\n",
      "Class 0:  0.6263956007332111 Class 1:  0.37360439926678884\n"
     ]
    }
   ],
   "source": [
    "print(\"-\"*10, \"Distribution of output variable in train data\", \"-\"*10)\n",
    "train_distr = Counter(y_train)\n",
    "train_len = len(y_train)\n",
    "print(\"Class 0: \",int(train_distr[0])/train_len,\"Class 1: \", int(train_distr[1])/train_len)\n",
    "print(\"-\"*10, \"Distribution of output variable in train data\", \"-\"*10)\n",
    "test_distr = Counter(y_test)\n",
    "test_len = len(y_test)\n",
    "print(\"Class 0: \",int(test_distr[0])/test_len, \"Class 1: \",int(test_distr[1])/test_len)"
   ]
  },
  {
   "cell_type": "markdown",
   "id": "1d748c27",
   "metadata": {},
   "source": [
    "#### functions for confusion matrix:"
   ]
  },
  {
   "cell_type": "code",
   "execution_count": 17,
   "id": "aef540d4",
   "metadata": {},
   "outputs": [],
   "source": [
    "def plot_confusion_matrix(test_y, pred_y):\n",
    "    C = confusion_matrix(test_y, pred_y)\n",
    "    \n",
    "    A =(((C.T)/(C.sum(axis=1))).T) #taking traspose and adding rows wise\n",
    "    B =(C/C.sum(axis=0)) # adding cl=olumns wise\n",
    "    \n",
    "    plt.figure(figsize=(15,5))\n",
    "    labels = [1,2]\n",
    "    \n",
    "    # representing A in heat-map\n",
    "    cmap = sns.light_palette(\"red\")\n",
    "    plt.subplot(1,3,1)\n",
    "    sns.heatmap(C, annot=True, cmap=cmap, fmt=\".3f\", xticklabels=labels, yticklabels=labels)\n",
    "    plt.xlabel(\"Predicted class\")\n",
    "    plt.ylabel(\"Original class\")\n",
    "    plt.title(\"Confusion matrix\")\n",
    "    \n",
    "    plt.subplot(1, 3, 2)\n",
    "    sns.heatmap(B, annot=True, cmap=cmap, fmt=\".3f\", xticklabels=labels, yticklabels=labels)\n",
    "    plt.xlabel('Predicted Class')\n",
    "    plt.ylabel('Original Class')\n",
    "    plt.title(\"Precision matrix\")\n",
    "    \n",
    "    plt.subplot(1, 3, 3)\n",
    "    # representing B in heatmap format\n",
    "    sns.heatmap(A, annot=True, cmap=cmap, fmt=\".3f\", xticklabels=labels, yticklabels=labels)\n",
    "    plt.xlabel('Predicted Class')\n",
    "    plt.ylabel('Original Class')\n",
    "    plt.title(\"Recall matrix\")\n",
    "    \n",
    "    plt.show()"
   ]
  },
  {
   "cell_type": "markdown",
   "id": "3c30a581",
   "metadata": {},
   "source": [
    "## Building a random model and finding the worst-case log_loss"
   ]
  },
  {
   "cell_type": "code",
   "execution_count": 18,
   "id": "e6e7bec7",
   "metadata": {},
   "outputs": [
    {
     "name": "stdout",
     "output_type": "stream",
     "text": [
      "log_loss on test data using random model 0.8782785230351072\n"
     ]
    },
    {
     "data": {
      "image/png": "[encoded data removed]",
      "text/plain": [
       "<Figure size 1080x360 with 6 Axes>"
      ]
     },
     "metadata": {
      "needs_background": "light"
     },
     "output_type": "display_data"
    }
   ],
   "source": [
    "predicted_y = np.zeros((test_len,2))\n",
    "for i in range(test_len):\n",
    "    rand_probs = np.random.rand(1,2)\n",
    "    predicted_y[i] = ((rand_probs/sum(sum(rand_probs)))[0])\n",
    "print(\"log_loss on test data using random model\", log_loss(y_test, predicted_y, eps=1e-15))\n",
    "\n",
    "predicted_y =np.argmax(predicted_y, axis=1)\n",
    "plot_confusion_matrix(y_test, predicted_y)"
   ]
  },
  {
   "cell_type": "markdown",
   "id": "187a006e",
   "metadata": {},
   "source": [
    "## Logistic Regression with hyperparameter tuning:\n"
   ]
  },
  {
   "cell_type": "code",
   "execution_count": 12,
   "id": "8182254e",
   "metadata": {},
   "outputs": [
    {
     "name": "stdout",
     "output_type": "stream",
     "text": [
      "For values of alpha=  1e-05 The log_loss is : 0.6602837391666504\n",
      "For values of alpha=  0.0001 The log_loss is : 0.47286256352966316\n",
      "For values of alpha=  0.001 The log_loss is : 0.46184100911092385\n",
      "For values of alpha=  0.01 The log_loss is : 0.4667847331251597\n",
      "For values of alpha=  0.1 The log_loss is : 0.4640619266807957\n",
      "For values of alpha=  1 The log_loss is : 0.47340772010642135\n",
      "For values of alpha=  10 The log_loss is : 0.5080992704779539\n"
     ]
    },
    {
     "data": {
      "image/png": "[encoded data removed]",
      "text/plain": [
       "<Figure size 432x288 with 1 Axes>"
      ]
     },
     "metadata": {
      "needs_background": "light"
     },
     "output_type": "display_data"
    },
    {
     "name": "stdout",
     "output_type": "stream",
     "text": [
      "for values of best alpha= 0.001 The train log loss is  0.46022195522558657\n",
      "for values of best alpha= 0.001 The test log loss is  0.46184100911092385\n",
      "Total number of data points : 30001\n"
     ]
    },
    {
     "data": {
      "image/png": "[encoded data removed]",
      "text/plain": [
       "<Figure size 1080x360 with 6 Axes>"
      ]
     },
     "metadata": {
      "needs_background": "light"
     },
     "output_type": "display_data"
    }
   ],
   "source": [
    "## read more about SGDClassifier() at \n",
    "# http://scikit-learn.org/stable/modules/generated/sklearn.linear_model.SGDClassifier.html\n",
    "\n",
    "alpha = [10**x for x in range(-5,2)] # hyper-parameter\n",
    "log_error_array = []\n",
    "for i in alpha:\n",
    "    clf = SGDClassifier(alpha=i,penalty='l2', loss='log', random_state=42)\n",
    "    clf.fit(X_train,y_train)\n",
    "    \n",
    "    # use calibration\n",
    "    sig_clf = CalibratedClassifierCV(clf, method='sigmoid')\n",
    "    sig_clf.fit(X_train, y_train)\n",
    "    \n",
    "    predict_y = sig_clf.predict_proba(X_test)\n",
    "    log_error_array.append(log_loss(y_test, predict_y, labels=clf.classes_, eps=1e-15))\n",
    "    print(\"For values of alpha= \",i, \"The log_loss is :\",log_loss(y_test, predict_y, labels=clf.classes_, eps=1e-15))\n",
    "    \n",
    "fig, ax = plt.subplots()\n",
    "ax.plot(alpha, log_error_array, c='r')\n",
    "for i, txt in enumerate(np.round(log_error_array, 3)):\n",
    "    ax.annotate((alpha[i], np.round(txt, 3)), (alpha[i], log_error_array[i]))\n",
    "plt.grid()\n",
    "plt.title(\"Cross validation error for each alpha\")\n",
    "plt.xlabel(\"Alpha i's\")\n",
    "plt.ylabel(\"Error measures\")\n",
    "plt.show()\n",
    "\n",
    "# building classifier for best alpha\n",
    "\n",
    "best_alpha = np.argmin(log_error_array)\n",
    "clf = SGDClassifier(alpha=alpha[best_alpha], penalty='l2', loss='log', random_state=42)\n",
    "clf.fit(X_train, y_train)\n",
    "sig_clf = CalibratedClassifierCV(clf, method='sigmoid')\n",
    "sig_clf.fit(X_train, y_train)\n",
    "\n",
    "predict_y = sig_clf.predict_proba(X_train)\n",
    "print(\"for values of best alpha=\", alpha[best_alpha], \"The train log loss is \", log_loss(y_train, predict_y, labels=clf.classes_,eps=1e-15))\n",
    "\n",
    "predict_y = sig_clf.predict_proba(X_test)\n",
    "print(\"for values of best alpha=\", alpha[best_alpha], \"The test log loss is \", log_loss(y_test, predict_y, labels=clf.classes_,eps=1e-15))\n",
    "\n",
    "predicted_y = np.argmax(predict_y, axis=1)\n",
    "print(\"Total number of data points :\", len(predicted_y))\n",
    "plot_confusion_matrix(y_test, predicted_y)"
   ]
  },
  {
   "cell_type": "markdown",
   "id": "203ba8ef",
   "metadata": {},
   "source": [
    "# Linear SVM using hyperparameter tuning:"
   ]
  },
  {
   "cell_type": "code",
   "execution_count": 20,
   "id": "09ae41f0",
   "metadata": {},
   "outputs": [
    {
     "name": "stdout",
     "output_type": "stream",
     "text": [
      "For values of alpha =  1e-05 The log loss is: 0.6608462578487653\n",
      "For values of alpha =  0.0001 The log loss is: 0.6608462578487653\n",
      "For values of alpha =  0.001 The log loss is: 0.6608462578487653\n",
      "For values of alpha =  0.01 The log loss is: 0.6608462578487653\n",
      "For values of alpha =  0.1 The log loss is: 0.6608462578487653\n",
      "For values of alpha =  1 The log loss is: 0.6608462578487653\n",
      "For values of alpha =  10 The log loss is: 0.6608462578487653\n"
     ]
    },
    {
     "data": {
      "image/png": "[encoded data removed]",
      "text/plain": [
       "<Figure size 432x288 with 1 Axes>"
      ]
     },
     "metadata": {
      "needs_background": "light"
     },
     "output_type": "display_data"
    },
    {
     "name": "stdout",
     "output_type": "stream",
     "text": [
      "For values of best alpha =  1e-05 The train log loss is: 0.660902951564485\n",
      "For values of best alpha =  1e-05 The test log loss is: 0.6608462578487653\n",
      "Total number of data points : 6001\n"
     ]
    },
    {
     "data": {
      "image/png": "[encoded data removed]",
      "text/plain": [
       "<Figure size 1080x360 with 6 Axes>"
      ]
     },
     "metadata": {
      "needs_background": "light"
     },
     "output_type": "display_data"
    }
   ],
   "source": [
    "alpha = [10 ** x for x in range(-5, 2)] # hyperparam for SGD classifier.\n",
    "\n",
    "log_error_array=[]\n",
    "for i in alpha:\n",
    "    clf = SGDClassifier(alpha=i, penalty='l1', loss='hinge', random_state=42)\n",
    "    clf.fit(X_train, y_train)\n",
    "    sig_clf = CalibratedClassifierCV(clf, method=\"sigmoid\")\n",
    "    sig_clf.fit(X_train, y_train)\n",
    "    predict_y = sig_clf.predict_proba(X_test)\n",
    "    log_error_array.append(log_loss(y_test, predict_y, labels=clf.classes_, eps=1e-15))\n",
    "    print('For values of alpha = ', i, \"The log loss is:\",log_loss(y_test, predict_y, labels=clf.classes_, eps=1e-15))\n",
    "    \n",
    "fig, ax = plt.subplots()\n",
    "ax.plot(alpha, log_error_array,c='g')\n",
    "for i, txt in enumerate(np.round(log_error_array,3)):\n",
    "    ax.annotate((alpha[i],np.round(txt,3)), (alpha[i],log_error_array[i]))\n",
    "plt.grid()\n",
    "plt.title(\"Cross Validation Error for each alpha\")\n",
    "plt.xlabel(\"Alpha i's\")\n",
    "plt.ylabel(\"Error measure\")\n",
    "plt.show()\n",
    "\n",
    "best_alpha = np.argmin(log_error_array)\n",
    "clf = SGDClassifier(alpha=alpha[best_alpha], penalty='l1', loss='hinge', random_state=42)\n",
    "clf.fit(X_train, y_train)\n",
    "sig_clf = CalibratedClassifierCV(clf, method=\"sigmoid\")\n",
    "sig_clf.fit(X_train, y_train)\n",
    "\n",
    "predict_y = sig_clf.predict_proba(X_train)\n",
    "print('For values of best alpha = ', alpha[best_alpha], \"The train log loss is:\",log_loss(y_train, predict_y, labels=clf.classes_, eps=1e-15))\n",
    "predict_y = sig_clf.predict_proba(X_test)\n",
    "print('For values of best alpha = ', alpha[best_alpha], \"The test log loss is:\",log_loss(y_test, predict_y, labels=clf.classes_, eps=1e-15))\n",
    "predicted_y =np.argmax(predict_y,axis=1)\n",
    "print(\"Total number of data points :\", len(predicted_y))\n",
    "plot_confusion_matrix(y_test, predicted_y)"
   ]
  },
  {
   "cell_type": "markdown",
   "id": "cc174b91",
   "metadata": {},
   "source": [
    "\n",
    "# XGBoost"
   ]
  },
  {
   "cell_type": "code",
   "execution_count": 21,
   "id": "4966af78",
   "metadata": {},
   "outputs": [
    {
     "name": "stdout",
     "output_type": "stream",
     "text": [
      "[0]\ttrain-logloss:0.68487\tvalid-logloss:0.68521\n",
      "[10]\ttrain-logloss:0.61631\tvalid-logloss:0.61985\n",
      "[20]\ttrain-logloss:0.56628\tvalid-logloss:0.57175\n",
      "[30]\ttrain-logloss:0.52764\tvalid-logloss:0.53455\n",
      "[40]\ttrain-logloss:0.49826\tvalid-logloss:0.50589\n",
      "[50]\ttrain-logloss:0.47487\tvalid-logloss:0.48336\n",
      "[60]\ttrain-logloss:0.45624\tvalid-logloss:0.46563\n",
      "[70]\ttrain-logloss:0.44100\tvalid-logloss:0.45124\n",
      "[80]\ttrain-logloss:0.42843\tvalid-logloss:0.43936\n",
      "[90]\ttrain-logloss:0.41796\tvalid-logloss:0.42953\n",
      "[100]\ttrain-logloss:0.40939\tvalid-logloss:0.42164\n",
      "[110]\ttrain-logloss:0.40200\tvalid-logloss:0.41481\n",
      "[120]\ttrain-logloss:0.39547\tvalid-logloss:0.40899\n",
      "[130]\ttrain-logloss:0.38979\tvalid-logloss:0.40420\n",
      "[140]\ttrain-logloss:0.38486\tvalid-logloss:0.40041\n",
      "[150]\ttrain-logloss:0.38027\tvalid-logloss:0.39685\n",
      "[160]\ttrain-logloss:0.37632\tvalid-logloss:0.39370\n",
      "[170]\ttrain-logloss:0.37270\tvalid-logloss:0.39108\n",
      "[180]\ttrain-logloss:0.36929\tvalid-logloss:0.38879\n",
      "[190]\ttrain-logloss:0.36600\tvalid-logloss:0.38657\n",
      "[200]\ttrain-logloss:0.36290\tvalid-logloss:0.38471\n",
      "[210]\ttrain-logloss:0.35996\tvalid-logloss:0.38298\n",
      "[220]\ttrain-logloss:0.35698\tvalid-logloss:0.38112\n",
      "[230]\ttrain-logloss:0.35429\tvalid-logloss:0.37961\n",
      "[240]\ttrain-logloss:0.35174\tvalid-logloss:0.37840\n",
      "[250]\ttrain-logloss:0.34928\tvalid-logloss:0.37718\n",
      "[260]\ttrain-logloss:0.34680\tvalid-logloss:0.37610\n",
      "[270]\ttrain-logloss:0.34441\tvalid-logloss:0.37488\n",
      "[280]\ttrain-logloss:0.34216\tvalid-logloss:0.37394\n",
      "[290]\ttrain-logloss:0.33965\tvalid-logloss:0.37294\n",
      "[300]\ttrain-logloss:0.33744\tvalid-logloss:0.37225\n",
      "[310]\ttrain-logloss:0.33533\tvalid-logloss:0.37146\n",
      "[320]\ttrain-logloss:0.33316\tvalid-logloss:0.37093\n",
      "[330]\ttrain-logloss:0.33099\tvalid-logloss:0.37005\n",
      "[340]\ttrain-logloss:0.32886\tvalid-logloss:0.36947\n",
      "[350]\ttrain-logloss:0.32701\tvalid-logloss:0.36892\n",
      "[360]\ttrain-logloss:0.32485\tvalid-logloss:0.36825\n",
      "[370]\ttrain-logloss:0.32292\tvalid-logloss:0.36764\n",
      "[380]\ttrain-logloss:0.32112\tvalid-logloss:0.36712\n",
      "[390]\ttrain-logloss:0.31915\tvalid-logloss:0.36671\n",
      "[399]\ttrain-logloss:0.31757\tvalid-logloss:0.36639\n",
      "The test log loss is: 0.3663906370747409\n"
     ]
    }
   ],
   "source": [
    "import xgboost as xgb\n",
    "params = {}\n",
    "params['objective'] = 'binary:logistic'\n",
    "params['eval_metric'] = 'logloss'\n",
    "params['eta'] = 0.02\n",
    "params['max_depth'] = 4\n",
    "\n",
    "d_train = xgb.DMatrix(X_train, label=y_train)\n",
    "d_test = xgb.DMatrix(X_test, label=y_test)\n",
    "\n",
    "watchlist = [(d_train, 'train'), (d_test, 'valid')]\n",
    "\n",
    "bst = xgb.train(params, d_train, 400, watchlist, early_stopping_rounds=20, verbose_eval=10)\n",
    "\n",
    "xgdmat = xgb.DMatrix(X_train,y_train)\n",
    "predict_y = bst.predict(d_test)\n",
    "print(\"The test log loss is:\",log_loss(y_test, predict_y, labels=clf.classes_, eps=1e-15))\n"
   ]
  },
  {
   "cell_type": "code",
   "execution_count": 22,
   "id": "89ff14b1",
   "metadata": {},
   "outputs": [
    {
     "name": "stdout",
     "output_type": "stream",
     "text": [
      "Total number of data points : 6001\n"
     ]
    },
    {
     "data": {
      "image/png": "[encoded data removed]",
      "text/plain": [
       "<Figure size 1080x360 with 6 Axes>"
      ]
     },
     "metadata": {
      "needs_background": "light"
     },
     "output_type": "display_data"
    }
   ],
   "source": [
    "predicted_y =np.array(predict_y>0.5,dtype=int)\n",
    "print(\"Total number of data points :\", len(predicted_y))\n",
    "plot_confusion_matrix(y_test, predicted_y)"
   ]
  },
  {
   "cell_type": "code",
   "execution_count": 23,
   "id": "810a2324",
   "metadata": {},
   "outputs": [],
   "source": [
    "# out of the these three models, xgboost perform best"
   ]
  },
  {
   "cell_type": "code",
   "execution_count": null,
   "id": "8df2ef65",
   "metadata": {},
   "outputs": [],
   "source": []
  }
 ],
 "metadata": {
  "kernelspec": {
   "display_name": "Python 3",
   "language": "python",
   "name": "python3"
  },
  "language_info": {
   "codemirror_mode": {
    "name": "ipython",
    "version": 3
   },
   "file_extension": ".py",
   "mimetype": "text/x-python",
   "name": "python",
   "nbconvert_exporter": "python",
   "pygments_lexer": "ipython3",
   "version": "3.8.8"
  }
 },
 "nbformat": 4,
 "nbformat_minor": 5
}
